{
 "cells": [
  {
   "cell_type": "markdown",
   "metadata": {},
   "source": [
    "### 数据集描述：\n",
    "选用Wine Reviews数据集进行关联规则挖掘：\n",
    "整个数据有13列 其中 index，points，price为数值属性，其余为标称属性\n",
    "其中每一种属性代表的意义如下：\n",
    "\n",
    "1. country:来自哪个国家\n",
    "2. description：品酒师对其的描述\n",
    "3. designation：酿酒用的葡萄来自哪个葡萄庄园\n",
    "4. points：品酒师对其的打分\n",
    "5. price：一瓶酒的价格\n",
    "6. province：来自哪个省份或者州\n",
    "7. region_1：省内的具体地区\n",
    "8. region_2：有时候存在着更具体的地址\n",
    "9. taster_name： 品酒师的姓名\n",
    "10. taster_twitter_handle： 品酒师的推特账号\n",
    "11. title： 评论的标题\n",
    "12. variety:用于酿酒的葡萄种类\n",
    "13. winery：酿酒厂的名字\n",
    "\n",
    "### 1. 对数据集进行处理，转换成适合进行关联规则挖掘的形式"
   ]
  },
  {
   "cell_type": "code",
   "execution_count": 2,
   "metadata": {},
   "outputs": [
    {
     "data": {
      "text/html": [
       "<div>\n",
       "<style scoped>\n",
       "    .dataframe tbody tr th:only-of-type {\n",
       "        vertical-align: middle;\n",
       "    }\n",
       "\n",
       "    .dataframe tbody tr th {\n",
       "        vertical-align: top;\n",
       "    }\n",
       "\n",
       "    .dataframe thead th {\n",
       "        text-align: right;\n",
       "    }\n",
       "</style>\n",
       "<table border=\"1\" class=\"dataframe\">\n",
       "  <thead>\n",
       "    <tr style=\"text-align: right;\">\n",
       "      <th></th>\n",
       "      <th>index</th>\n",
       "      <th>country</th>\n",
       "      <th>description</th>\n",
       "      <th>designation</th>\n",
       "      <th>points</th>\n",
       "      <th>price</th>\n",
       "      <th>province</th>\n",
       "      <th>region_1</th>\n",
       "      <th>region_2</th>\n",
       "      <th>taster_name</th>\n",
       "      <th>taster_twitter_handle</th>\n",
       "      <th>title</th>\n",
       "      <th>variety</th>\n",
       "      <th>winery</th>\n",
       "    </tr>\n",
       "  </thead>\n",
       "  <tbody>\n",
       "    <tr>\n",
       "      <th>0</th>\n",
       "      <td>0</td>\n",
       "      <td>Italy</td>\n",
       "      <td>Aromas include tropical fruit, broom, brimston...</td>\n",
       "      <td>Vulkà Bianco</td>\n",
       "      <td>87</td>\n",
       "      <td>NaN</td>\n",
       "      <td>Sicily &amp; Sardinia</td>\n",
       "      <td>Etna</td>\n",
       "      <td>NaN</td>\n",
       "      <td>Kerin O’Keefe</td>\n",
       "      <td>@kerinokeefe</td>\n",
       "      <td>Nicosia 2013 Vulkà Bianco  (Etna)</td>\n",
       "      <td>White Blend</td>\n",
       "      <td>Nicosia</td>\n",
       "    </tr>\n",
       "    <tr>\n",
       "      <th>1</th>\n",
       "      <td>1</td>\n",
       "      <td>Portugal</td>\n",
       "      <td>This is ripe and fruity, a wine that is smooth...</td>\n",
       "      <td>Avidagos</td>\n",
       "      <td>87</td>\n",
       "      <td>15.0</td>\n",
       "      <td>Douro</td>\n",
       "      <td>NaN</td>\n",
       "      <td>NaN</td>\n",
       "      <td>Roger Voss</td>\n",
       "      <td>@vossroger</td>\n",
       "      <td>Quinta dos Avidagos 2011 Avidagos Red (Douro)</td>\n",
       "      <td>Portuguese Red</td>\n",
       "      <td>Quinta dos Avidagos</td>\n",
       "    </tr>\n",
       "  </tbody>\n",
       "</table>\n",
       "</div>"
      ],
      "text/plain": [
       "   index   country                                        description  \\\n",
       "0      0     Italy  Aromas include tropical fruit, broom, brimston...   \n",
       "1      1  Portugal  This is ripe and fruity, a wine that is smooth...   \n",
       "\n",
       "    designation  points  price           province region_1 region_2  \\\n",
       "0  Vulkà Bianco      87    NaN  Sicily & Sardinia     Etna      NaN   \n",
       "1      Avidagos      87   15.0              Douro      NaN      NaN   \n",
       "\n",
       "     taster_name taster_twitter_handle  \\\n",
       "0  Kerin O’Keefe          @kerinokeefe   \n",
       "1     Roger Voss            @vossroger   \n",
       "\n",
       "                                           title         variety  \\\n",
       "0              Nicosia 2013 Vulkà Bianco  (Etna)     White Blend   \n",
       "1  Quinta dos Avidagos 2011 Avidagos Red (Douro)  Portuguese Red   \n",
       "\n",
       "                winery  \n",
       "0              Nicosia  \n",
       "1  Quinta dos Avidagos  "
      ]
     },
     "execution_count": 2,
     "metadata": {},
     "output_type": "execute_result"
    }
   ],
   "source": [
    "from numpy import *\n",
    "import pandas as pd\n",
    "#import seaborn as sns\n",
    "import numpy as np\n",
    "import matplotlib.pyplot as plt\n",
    "from datetime import datetime\n",
    "from tqdm import tqdm\n",
    "\n",
    "df = pd.read_csv('winemag-data-130k-v2.csv')\n",
    "# 将未命名的第一列重命名为 index\n",
    "df.rename(columns={'Unnamed: 0':'index'}, inplace=True)\n",
    "\n",
    "#展示数据的格式\n",
    "df.head(2)"
   ]
  },
  {
   "cell_type": "code",
   "execution_count": 3,
   "metadata": {},
   "outputs": [
    {
     "data": {
      "text/html": [
       "<div>\n",
       "<style scoped>\n",
       "    .dataframe tbody tr th:only-of-type {\n",
       "        vertical-align: middle;\n",
       "    }\n",
       "\n",
       "    .dataframe tbody tr th {\n",
       "        vertical-align: top;\n",
       "    }\n",
       "\n",
       "    .dataframe thead th {\n",
       "        text-align: right;\n",
       "    }\n",
       "</style>\n",
       "<table border=\"1\" class=\"dataframe\">\n",
       "  <thead>\n",
       "    <tr style=\"text-align: right;\">\n",
       "      <th></th>\n",
       "      <th>country</th>\n",
       "      <th>variety</th>\n",
       "      <th>winery</th>\n",
       "      <th>points</th>\n",
       "    </tr>\n",
       "  </thead>\n",
       "  <tbody>\n",
       "    <tr>\n",
       "      <th>0</th>\n",
       "      <td>Italy</td>\n",
       "      <td>White Blend</td>\n",
       "      <td>Nicosia</td>\n",
       "      <td>87</td>\n",
       "    </tr>\n",
       "    <tr>\n",
       "      <th>1</th>\n",
       "      <td>Portugal</td>\n",
       "      <td>Portuguese Red</td>\n",
       "      <td>Quinta dos Avidagos</td>\n",
       "      <td>87</td>\n",
       "    </tr>\n",
       "    <tr>\n",
       "      <th>2</th>\n",
       "      <td>US</td>\n",
       "      <td>Pinot Gris</td>\n",
       "      <td>Rainstorm</td>\n",
       "      <td>87</td>\n",
       "    </tr>\n",
       "    <tr>\n",
       "      <th>3</th>\n",
       "      <td>US</td>\n",
       "      <td>Riesling</td>\n",
       "      <td>St. Julian</td>\n",
       "      <td>87</td>\n",
       "    </tr>\n",
       "    <tr>\n",
       "      <th>4</th>\n",
       "      <td>US</td>\n",
       "      <td>Pinot Noir</td>\n",
       "      <td>Sweet Cheeks</td>\n",
       "      <td>87</td>\n",
       "    </tr>\n",
       "  </tbody>\n",
       "</table>\n",
       "</div>"
      ],
      "text/plain": [
       "    country         variety               winery  points\n",
       "0     Italy     White Blend              Nicosia      87\n",
       "1  Portugal  Portuguese Red  Quinta dos Avidagos      87\n",
       "2        US      Pinot Gris            Rainstorm      87\n",
       "3        US        Riesling           St. Julian      87\n",
       "4        US      Pinot Noir         Sweet Cheeks      87"
      ]
     },
     "execution_count": 3,
     "metadata": {},
     "output_type": "execute_result"
    }
   ],
   "source": [
    "#保留 国家 葡萄种类  酿酒厂 得分四个属性\n",
    "df = df[['country','variety','winery','points']]\n",
    "#去除空值\n",
    "df = df.dropna(axis=0, how='any')\n",
    "df.head(5)"
   ]
  },
  {
   "cell_type": "code",
   "execution_count": 4,
   "metadata": {},
   "outputs": [
    {
     "data": {
      "text/plain": [
       "count    129907.000000\n",
       "mean         88.447051\n",
       "std           3.040078\n",
       "min          80.000000\n",
       "25%          86.000000\n",
       "50%          88.000000\n",
       "75%          91.000000\n",
       "max         100.000000\n",
       "Name: points, dtype: float64"
      ]
     },
     "execution_count": 4,
     "metadata": {},
     "output_type": "execute_result"
    }
   ],
   "source": [
    "#查看得分的数据分布情况\n",
    "df['points'].describe()"
   ]
  },
  {
   "cell_type": "code",
   "execution_count": 5,
   "metadata": {},
   "outputs": [
    {
     "data": {
      "text/html": [
       "<div>\n",
       "<style scoped>\n",
       "    .dataframe tbody tr th:only-of-type {\n",
       "        vertical-align: middle;\n",
       "    }\n",
       "\n",
       "    .dataframe tbody tr th {\n",
       "        vertical-align: top;\n",
       "    }\n",
       "\n",
       "    .dataframe thead th {\n",
       "        text-align: right;\n",
       "    }\n",
       "</style>\n",
       "<table border=\"1\" class=\"dataframe\">\n",
       "  <thead>\n",
       "    <tr style=\"text-align: right;\">\n",
       "      <th></th>\n",
       "      <th>country</th>\n",
       "      <th>variety</th>\n",
       "      <th>winery</th>\n",
       "      <th>points</th>\n",
       "    </tr>\n",
       "  </thead>\n",
       "  <tbody>\n",
       "    <tr>\n",
       "      <th>0</th>\n",
       "      <td>Italy</td>\n",
       "      <td>White Blend</td>\n",
       "      <td>Nicosia</td>\n",
       "      <td>C</td>\n",
       "    </tr>\n",
       "    <tr>\n",
       "      <th>1</th>\n",
       "      <td>Portugal</td>\n",
       "      <td>Portuguese Red</td>\n",
       "      <td>Quinta dos Avidagos</td>\n",
       "      <td>C</td>\n",
       "    </tr>\n",
       "    <tr>\n",
       "      <th>2</th>\n",
       "      <td>US</td>\n",
       "      <td>Pinot Gris</td>\n",
       "      <td>Rainstorm</td>\n",
       "      <td>C</td>\n",
       "    </tr>\n",
       "    <tr>\n",
       "      <th>3</th>\n",
       "      <td>US</td>\n",
       "      <td>Riesling</td>\n",
       "      <td>St. Julian</td>\n",
       "      <td>C</td>\n",
       "    </tr>\n",
       "    <tr>\n",
       "      <th>4</th>\n",
       "      <td>US</td>\n",
       "      <td>Pinot Noir</td>\n",
       "      <td>Sweet Cheeks</td>\n",
       "      <td>C</td>\n",
       "    </tr>\n",
       "  </tbody>\n",
       "</table>\n",
       "</div>"
      ],
      "text/plain": [
       "    country         variety               winery points\n",
       "0     Italy     White Blend              Nicosia      C\n",
       "1  Portugal  Portuguese Red  Quinta dos Avidagos      C\n",
       "2        US      Pinot Gris            Rainstorm      C\n",
       "3        US        Riesling           St. Julian      C\n",
       "4        US      Pinot Noir         Sweet Cheeks      C"
      ]
     },
     "execution_count": 5,
     "metadata": {},
     "output_type": "execute_result"
    }
   ],
   "source": [
    "#得分的最低分为80分，最高分为100分\n",
    "#因此可以将得分[95,100]划分为A,[90,95)划分为B,[85,90)划分为C,[80,85)划分为D\n",
    "def points2ABCD(x):\n",
    "    if x < 85:\n",
    "        return 'D';\n",
    "    elif x < 90:\n",
    "        return 'C';\n",
    "    elif x < 95:\n",
    "        return 'B';\n",
    "    else:\n",
    "        return 'A';\n",
    "df['points'] = df['points'].map(points2ABCD)\n",
    "df.head(5)"
   ]
  },
  {
   "cell_type": "code",
   "execution_count": 6,
   "metadata": {},
   "outputs": [
    {
     "name": "stdout",
     "output_type": "stream",
     "text": [
      "Transaction Size: 129907\n",
      "\n",
      "Transaction example :['US', 'Pinot Gris', 'Ventosa', 'C']\n",
      "\n"
     ]
    }
   ],
   "source": [
    "#将DataFram数据转换成list便于关联规则挖掘\n",
    "ds = df.values.tolist()\n",
    "print(\"Transaction Size: \"+ str(len(ds)) +\"\\n\")\n",
    "print(\"Transaction example :\"+ str(ds[100]) +\"\\n\")"
   ]
  },
  {
   "cell_type": "markdown",
   "metadata": {},
   "source": [
    "### 2. 找出频繁模式"
   ]
  },
  {
   "cell_type": "code",
   "execution_count": 12,
   "metadata": {},
   "outputs": [
    {
     "name": "stdout",
     "output_type": "stream",
     "text": [
      "频繁1项集为:\n",
      "\n",
      "frozenset({'D'})\n",
      "\n",
      "frozenset({'B'})\n",
      "\n",
      "frozenset({'Bordeaux-style Red Blend'})\n",
      "\n",
      "frozenset({'Red Blend'})\n",
      "\n",
      "frozenset({'Chardonnay'})\n",
      "\n",
      "frozenset({'Cabernet Sauvignon'})\n",
      "\n",
      "frozenset({'France'})\n",
      "\n",
      "frozenset({'Spain'})\n",
      "\n",
      "frozenset({'Pinot Noir'})\n",
      "\n",
      "frozenset({'US'})\n",
      "\n",
      "frozenset({'Italy'})\n",
      "\n",
      "frozenset({'C'})\n",
      "\n",
      "频繁2项集为:\n",
      "\n",
      "frozenset({'US', 'B'})\n",
      "\n",
      "frozenset({'France', 'B'})\n",
      "\n",
      "frozenset({'US', 'Chardonnay'})\n",
      "\n",
      "frozenset({'US', 'Cabernet Sauvignon'})\n",
      "\n",
      "frozenset({'France', 'C'})\n",
      "\n",
      "frozenset({'US', 'Pinot Noir'})\n",
      "\n",
      "frozenset({'US', 'C'})\n",
      "\n",
      "frozenset({'C', 'Italy'})\n",
      "\n"
     ]
    }
   ],
   "source": [
    "# 获取候选1项集，dataSet为事务集。返回一个list，每个元素都是set集合\n",
    "def createC1(dataSet):\n",
    "    C1 = []   # 元素个数为1的项集（非频繁项集，因为还没有同最小支持度比较）\n",
    "    for transaction in dataSet:\n",
    "        for item in transaction:\n",
    "            if not [item] in C1:\n",
    "                C1.append([item])\n",
    "    C1.sort()  # 这里排序是为了，生成新的候选集时可以直接认为两个n项候选集前面的部分相同\n",
    "    # 因为除了候选1项集外其他的候选n项集都是以二维列表的形式存在，所以要将候选1项集的每一个元素都转化为一个单独的集合。\n",
    "    return list(map(frozenset, C1))   #map(frozenset, C1)的语义是将C1由Python列表转换为不变集合（frozenset，Python中的数据结构）\n",
    "\n",
    "# 找出候选集中的频繁项集\n",
    "# dataSet为全部数据集，Ck为大小为k（包含k个元素）的候选项集，minSupport为设定的最小支持度\n",
    "def scanD(dataSet, Ck, minSupport):\n",
    "    ssCnt = {}   # 记录每个候选项的个数\n",
    "    for tid in dataSet:\n",
    "        for can in Ck:\n",
    "            if can.issubset(tid):\n",
    "                ssCnt[can] = ssCnt.get(can, 0) + 1   # 计算每一个项集出现的频率\n",
    "    numItems = float(len(dataSet))\n",
    "    retList = []\n",
    "    supportData = {}\n",
    "    for key in ssCnt:\n",
    "        support = ssCnt[key] / numItems\n",
    "        if support >= minSupport:\n",
    "            retList.insert(0, key)  #将频繁项集插入返回列表的首部\n",
    "        supportData[key] = support\n",
    "    return retList, supportData   #retList为在Ck中找出的频繁项集（支持度大于minSupport的），supportData记录各频繁项集的支持度\n",
    "\n",
    "# 通过频繁项集列表Lk和项集个数k生成候选项集C(k+1)。\n",
    "def aprioriGen(Lk, k):\n",
    "    retList = []\n",
    "    lenLk = len(Lk)\n",
    "    for i in range(lenLk):\n",
    "        for j in range(i + 1, lenLk):\n",
    "            # 前k-1项相同时，才将两个集合合并，合并后才能生成k+1项\n",
    "            L1 = list(Lk[i])[:k-2]; L2 = list(Lk[j])[:k-2]   # 取出两个集合的前k-1个元素\n",
    "            L1.sort(); L2.sort()\n",
    "            if L1 == L2:\n",
    "                retList.append(Lk[i] | Lk[j])\n",
    "    return retList\n",
    "\n",
    "# 获取事务集中的所有的频繁项集\n",
    "# Ck表示项数为k的候选项集，最初的C1通过createC1()函数生成。Lk表示项数为k的频繁项集，supK为其支持度，Lk和supK由scanD()函数通过Ck计算而来。\n",
    "def apriori(dataSet, minSupport=0.5):\n",
    "    C1 = createC1(dataSet)  # 从事务集中获取候选1项集\n",
    "    D = list(map(set, dataSet))  # 将事务集的每个元素转化为集合\n",
    "    L1, supportData = scanD(D, C1, minSupport)  # 获取频繁1项集和对应的支持度\n",
    "    L = [L1]  # L用来存储所有的频繁项集\n",
    "    k = 2\n",
    "    while (len(L[k-2]) > 0): # 一直迭代到项集数目过大而在事务集中不存在这种n项集\n",
    "        Ck = aprioriGen(L[k-2], k)   # 根据频繁项集生成新的候选项集。Ck表示项数为k的候选项集\n",
    "        Lk, supK = scanD(D, Ck, minSupport)  # Lk表示项数为k的频繁项集，supK为其支持度\n",
    "        L.append(Lk);supportData.update(supK)  # 添加新频繁项集和他们的支持度\n",
    "        k += 1\n",
    "    return L, supportData\n",
    "\n",
    "L,suppData=apriori(ds,0.05)\n",
    "#print ('C1:',C1)\n",
    "# print 'L:',L\n",
    "# print 'suppData:',suppData\n",
    "for i in range(len(L)):\n",
    "    if len(L[i])>0:\n",
    "        print(\"频繁\"+str(i+1)+\"项集为:\\n\")\n",
    "        for frequentSet in L[i]:\n",
    "            print(str(frequentSet)+'\\n')"
   ]
  },
  {
   "cell_type": "markdown",
   "metadata": {},
   "source": [
    "### 3. 导出关联规则，计算其支持度和置信度;"
   ]
  },
  {
   "cell_type": "code",
   "execution_count": 76,
   "metadata": {},
   "outputs": [
    {
     "name": "stdout",
     "output_type": "stream",
     "text": [
      "frozenset({'B'}) --> frozenset({'US'}) 置信度: 0.4576798472398035 支持度: 0.1642097808432186\n",
      "frozenset({'US'}) --> frozenset({'B'}) 置信度: 0.3913841185968002 支持度: 0.1642097808432186\n",
      "frozenset({'B'}) --> frozenset({'France'}) 置信度: 0.1829474994099852 支持度: 0.0656392650126629\n",
      "frozenset({'France'}) --> frozenset({'B'}) 置信度: 0.38595935364142486 支持度: 0.0656392650126629\n",
      "frozenset({'Chardonnay'}) --> frozenset({'US'}) 置信度: 0.5788085106382979 支持度: 0.052352837029567306\n",
      "frozenset({'US'}) --> frozenset({'Chardonnay'}) 置信度: 0.12477983267283135 支持度: 0.052352837029567306\n",
      "frozenset({'Cabernet Sauvignon'}) --> frozenset({'US'}) 置信度: 0.7724392819429778 支持度: 0.056309513729052324\n",
      "frozenset({'US'}) --> frozenset({'Cabernet Sauvignon'}) 置信度: 0.13421033318655512 支持度: 0.056309513729052324\n",
      "frozenset({'C'}) --> frozenset({'France'}) 置信度: 0.16585836157531847 支持度: 0.0874009868598305\n",
      "frozenset({'France'}) --> frozenset({'C'}) 置信度: 0.5139184357036165 支持度: 0.0874009868598305\n",
      "frozenset({'Pinot Noir'}) --> frozenset({'US'}) 置信度: 0.7449694777300474 支持度: 0.0760928972264774\n",
      "frozenset({'US'}) --> frozenset({'Pinot Noir'}) 置信度: 0.18136283575517392 支持度: 0.0760928972264774\n",
      "frozenset({'C'}) --> frozenset({'US'}) 置信度: 0.38998772934439646 支持度: 0.20550855612091729\n",
      "frozenset({'US'}) --> frozenset({'C'}) 置信度: 0.48981726111845003 支持度: 0.20550855612091729\n",
      "frozenset({'Italy'}) --> frozenset({'C'}) 置信度: 0.6157625383828045 支持度: 0.0926201051521473\n",
      "frozenset({'C'}) --> frozenset({'Italy'}) 置信度: 0.1757625335982237 支持度: 0.0926201051521473\n"
     ]
    }
   ],
   "source": [
    "#生成关联规则\n",
    "def generateRules(L, supportData, minConf=0.7):  #supportData is a dict coming from scanD\n",
    "    bigRuleList = []\n",
    "    for i in range(1, len(L)):#only get the sets with two or more items\n",
    "        for freqSet in L[i]:\n",
    "            H1 = [frozenset([item]) for item in freqSet]\n",
    "            #print 'H1:',H1\n",
    "            if (i > 1):\n",
    "                rulesFromConseq(freqSet, H1, supportData, bigRuleList, minConf)\n",
    "            else:\n",
    "                calcConf(freqSet, H1, supportData, bigRuleList, minConf)\n",
    "    return bigRuleList         \n",
    "\n",
    "def calcConf(freqSet, H, supportData, brl, minConf=0.7):\n",
    "    prunedH = [] \n",
    "    for conseq in H:\n",
    "        conf = supportData[freqSet]/supportData[freqSet-conseq] #calc confidence\n",
    "        if conf >= minConf: \n",
    "            print (freqSet-conseq,'-->',conseq,'置信度:',conf,'支持度:',supportData[freqSet])\n",
    "            brl.append([freqSet-conseq, conseq, conf,supportData[freqSet]])\n",
    "            prunedH.append(conseq)\n",
    "\n",
    "    return prunedH\n",
    "\n",
    "#rulesFromConseq目的就是对每一个频繁项集生成右边的规则，一个频繁项集可以生成很多右边的规则\n",
    "#if (len(freqSet) > (m + 1))这是迭代停止的条件，也就是当右边的规则的元素数+1=该频繁项长度时停止迭代\n",
    "#if (len(Hmp1) > 1)当Hmp1的长度大于1时才能合并，合并需要至少两个frozenset\n",
    "def rulesFromConseq(freqSet, H, supportData, brl, minConf=0.7):\n",
    "    m = len(H[0])\n",
    "    #print'm:',m\n",
    "   # print'len(freqSet):',len(freqSet)\n",
    "    if (len(freqSet) > (m + 1)): #try further merging\n",
    "        Hmp1 = aprioriGen(H, m+1)#create Hm+1 new candidates\n",
    "        #print'Hmp1:',Hmp1\n",
    "        Hmp1 = calcConf(freqSet, Hmp1, supportData, brl, minConf)\n",
    "        #print 'Hmp2:',Hmp1\n",
    "        if (len(Hmp1) > 1):    #need at least two sets to merge\n",
    "            rulesFromConseq(freqSet, Hmp1, supportData, brl, minConf)\n",
    "            \n",
    "RuleList = generateRules(L,suppData,0.1)"
   ]
  },
  {
   "cell_type": "markdown",
   "metadata": {},
   "source": [
    "### 4. 使用Lift、kulc对规则进行评价\n",
    "#### 4.1 Lift"
   ]
  },
  {
   "cell_type": "code",
   "execution_count": 77,
   "metadata": {},
   "outputs": [],
   "source": [
    "#对于规则A—>B或者B—>A，lift(A,B)=P(A交B)/(P(A)*P(B))\n",
    "#如果lift(A,B)>1表示A、B呈正相关，lift(A,B)<1表示A、B呈负相关，lift(A,B)=1表示A、B不相关（独立）。\n",
    "def lift(rule,supportData):\n",
    "    left = rule[0]\n",
    "    right = rule[1]\n",
    "    conf = rule[2]\n",
    "    return conf/supportData[right]"
   ]
  },
  {
   "cell_type": "markdown",
   "metadata": {},
   "source": [
    "#### 4.2Kulc"
   ]
  },
  {
   "cell_type": "code",
   "execution_count": 78,
   "metadata": {},
   "outputs": [],
   "source": [
    "#Kulc\n",
    "#Kulc系数就是对两个自信度做一个平均处理：kulc(A,B)=(confidence(A—>B)+confidence(B—>A))/2。\n",
    "def kulc(rule,supportData):\n",
    "    left = rule[0]\n",
    "    right = rule[1]\n",
    "    confA2B = rule[2]\n",
    "    frozenset2set = set()\n",
    "    for i in left:\n",
    "        frozenset2set.add(i)\n",
    "    for i in right:\n",
    "        frozenset2set.add(i)\n",
    "    confB2A = supportData[frozenset(frozenset2set)]/supportData[right]\n",
    "    return 1 * (confA2B + confB2A)"
   ]
  },
  {
   "cell_type": "code",
   "execution_count": 79,
   "metadata": {},
   "outputs": [
    {
     "name": "stdout",
     "output_type": "stream",
     "text": [
      "关联规则\tLift\tKulc\n",
      "frozenset({'B'}) --> frozenset({'US'}) Conf:0.4577 Lift:1.0909 Kulc:0.8491\n",
      "frozenset({'US'}) --> frozenset({'B'}) Conf:0.3914 Lift:1.0909 Kulc:0.8491\n",
      "frozenset({'B'}) --> frozenset({'France'}) Conf:0.1829 Lift:1.0757 Kulc:0.5689\n",
      "frozenset({'France'}) --> frozenset({'B'}) Conf:0.3860 Lift:1.0757 Kulc:0.5689\n",
      "frozenset({'Chardonnay'}) --> frozenset({'US'}) Conf:0.5788 Lift:1.3796 Kulc:0.7036\n",
      "frozenset({'US'}) --> frozenset({'Chardonnay'}) Conf:0.1248 Lift:1.3796 Kulc:0.7036\n",
      "frozenset({'Cabernet Sauvignon'}) --> frozenset({'US'}) Conf:0.7724 Lift:1.8411 Kulc:0.9066\n",
      "frozenset({'US'}) --> frozenset({'Cabernet Sauvignon'}) Conf:0.1342 Lift:1.8411 Kulc:0.9066\n",
      "frozenset({'C'}) --> frozenset({'France'}) Conf:0.1659 Lift:0.9752 Kulc:0.6798\n",
      "frozenset({'France'}) --> frozenset({'C'}) Conf:0.5139 Lift:0.9752 Kulc:0.6798\n",
      "frozenset({'Pinot Noir'}) --> frozenset({'US'}) Conf:0.7450 Lift:1.7756 Kulc:0.9263\n",
      "frozenset({'US'}) --> frozenset({'Pinot Noir'}) Conf:0.1814 Lift:1.7756 Kulc:0.9263\n",
      "frozenset({'C'}) --> frozenset({'US'}) Conf:0.3900 Lift:0.9295 Kulc:0.8798\n",
      "frozenset({'US'}) --> frozenset({'C'}) Conf:0.4898 Lift:0.9295 Kulc:0.8798\n",
      "frozenset({'Italy'}) --> frozenset({'C'}) Conf:0.6158 Lift:1.1685 Kulc:0.7915\n",
      "frozenset({'C'}) --> frozenset({'Italy'}) Conf:0.1758 Lift:1.1685 Kulc:0.7915\n"
     ]
    }
   ],
   "source": [
    "print(\"关联规则\\tLift\\tKulc\")\n",
    "    \n",
    "for rule in RuleList:\n",
    "    rule_lift = lift(rule,suppData)\n",
    "    rule_kulc = kulc(rule,suppData)\n",
    "    rule_all_confidence = all_confidence(rule,suppData)\n",
    "    print (rule[0],'-->',rule[1],'Conf:%.4f'%rule[2],'Lift:%.4f'%rule_lift,'Kulc:%.4f'%rule_kulc)\n",
    "    rule.append(rule_lift)\n",
    "    rule.append(rule_kulc)\n",
    "    "
   ]
  },
  {
   "cell_type": "markdown",
   "metadata": {},
   "source": [
    "### 5. 对挖掘结果进行分析\n"
   ]
  },
  {
   "cell_type": "markdown",
   "metadata": {},
   "source": [
    "1. 由于原始wine数据集中国家、葡萄种类以及生产酒庄种类繁多，所以造成项集很大，每一项在项集中出现的概率很小，因此基于此挖掘的频繁集和关联规则支持度都不高。在挖掘频繁项集时，将最小支持度设置为0.05，目的是尽可能多的挖掘出频繁项集。在挖掘出的关联规则中最高支持度为0.2055，最低支持度为0.0523。\n",
    "\n",
    "2. 在挖掘出的频繁二项集中我们可以发现US国家和Chardonnay、Cabernet Sauvignon、Pinot Noir三种类型的葡萄酒，以及得分C出现在频繁项集中，而没有其他任何一个国家和葡萄酒类型共同出现在频繁集中。这说明美国的葡萄酒庄生产这三种类型的葡萄酒在数量上都处于绝对优势，但是酒的评分并不是很高。另外Italy、C同时出现在频繁集中，说明Italy产的葡萄酒得分大部分位于85-90区间并且数量较多。France和得分B、C都同时出现在频繁项集中说明法国产的葡萄酒评分大多位85-95区间，并且数量较多。\n",
    "\n",
    "3. 在挖掘出的关联规则中，重点观察Lift值高的关联规则表示关联关系强。以{'Cabernet Sauvignon'} --> {'US'}这条关联规则为例，置信度、Lift、Kulc均为最高，表示赤霞珠种类的葡萄酒主要生产地位于美国。另外得分较高的为{'Italy'} --> {'C'}，{'B'} --> 'US'}"
   ]
  },
  {
   "cell_type": "markdown",
   "metadata": {},
   "source": [
    "### 6. 可视化展示"
   ]
  },
  {
   "cell_type": "code",
   "execution_count": 91,
   "metadata": {},
   "outputs": [
    {
     "data": {
      "text/html": [
       "<div>\n",
       "<style scoped>\n",
       "    .dataframe tbody tr th:only-of-type {\n",
       "        vertical-align: middle;\n",
       "    }\n",
       "\n",
       "    .dataframe tbody tr th {\n",
       "        vertical-align: top;\n",
       "    }\n",
       "\n",
       "    .dataframe thead th {\n",
       "        text-align: right;\n",
       "    }\n",
       "</style>\n",
       "<table border=\"1\" class=\"dataframe\">\n",
       "  <thead>\n",
       "    <tr style=\"text-align: right;\">\n",
       "      <th></th>\n",
       "      <th>Left</th>\n",
       "      <th>Rrght</th>\n",
       "      <th>Conf</th>\n",
       "      <th>Sup</th>\n",
       "      <th>Lift</th>\n",
       "      <th>Kulc</th>\n",
       "    </tr>\n",
       "  </thead>\n",
       "  <tbody>\n",
       "    <tr>\n",
       "      <th>0</th>\n",
       "      <td>(US)</td>\n",
       "      <td>(B)</td>\n",
       "      <td>0.391384</td>\n",
       "      <td>0.164210</td>\n",
       "      <td>1.090852</td>\n",
       "      <td>0.849064</td>\n",
       "    </tr>\n",
       "    <tr>\n",
       "      <th>1</th>\n",
       "      <td>(B)</td>\n",
       "      <td>(France)</td>\n",
       "      <td>0.182947</td>\n",
       "      <td>0.065639</td>\n",
       "      <td>1.075733</td>\n",
       "      <td>0.568907</td>\n",
       "    </tr>\n",
       "    <tr>\n",
       "      <th>2</th>\n",
       "      <td>(France)</td>\n",
       "      <td>(B)</td>\n",
       "      <td>0.385959</td>\n",
       "      <td>0.065639</td>\n",
       "      <td>1.075733</td>\n",
       "      <td>0.568907</td>\n",
       "    </tr>\n",
       "    <tr>\n",
       "      <th>3</th>\n",
       "      <td>(Chardonnay)</td>\n",
       "      <td>(US)</td>\n",
       "      <td>0.578809</td>\n",
       "      <td>0.052353</td>\n",
       "      <td>1.379555</td>\n",
       "      <td>0.703588</td>\n",
       "    </tr>\n",
       "    <tr>\n",
       "      <th>4</th>\n",
       "      <td>(US)</td>\n",
       "      <td>(Chardonnay)</td>\n",
       "      <td>0.124780</td>\n",
       "      <td>0.052353</td>\n",
       "      <td>1.379555</td>\n",
       "      <td>0.703588</td>\n",
       "    </tr>\n",
       "  </tbody>\n",
       "</table>\n",
       "</div>"
      ],
      "text/plain": [
       "           Left         Rrght      Conf       Sup      Lift      Kulc\n",
       "0          (US)           (B)  0.391384  0.164210  1.090852  0.849064\n",
       "1           (B)      (France)  0.182947  0.065639  1.075733  0.568907\n",
       "2      (France)           (B)  0.385959  0.065639  1.075733  0.568907\n",
       "3  (Chardonnay)          (US)  0.578809  0.052353  1.379555  0.703588\n",
       "4          (US)  (Chardonnay)  0.124780  0.052353  1.379555  0.703588"
      ]
     },
     "execution_count": 91,
     "metadata": {},
     "output_type": "execute_result"
    }
   ],
   "source": [
    "import pandas as pd\n",
    "import numpy as np\n",
    "import matplotlib.pyplot as plt\n",
    "\n",
    "# df = pd.DataFrame(np.random.rand(10, 4), columns=['a', 'b', 'c', 'd'])\n",
    "# df.plot.area()\n",
    "# plt.show()\n",
    "df = pd.DataFrame(RuleList[1:])\n",
    "df.columns = ['Left','Rrght','Conf','Sup','Lift','Kulc']\n",
    "df.head(5)"
   ]
  },
  {
   "cell_type": "code",
   "execution_count": 105,
   "metadata": {},
   "outputs": [
    {
     "data": {
      "image/png": "[encoded data removed]",
      "text/plain": [
       "<Figure size 432x288 with 1 Axes>"
      ]
     },
     "metadata": {
      "needs_background": "light"
     },
     "output_type": "display_data"
    }
   ],
   "source": [
    "xticks = []\n",
    "for item in RuleList[1:]:\n",
    "    xticks.append(str(set(item[0]))+ \"-->\" + str(set(item[1])))\n",
    "l = len(xticks)\n",
    "\n",
    "df.plot.area()\n",
    "plt.xticks(range(l),xticks)\n",
    "plt.xticks(rotation=270)\n",
    "plt.show()"
   ]
  },
  {
   "cell_type": "code",
   "execution_count": 110,
   "metadata": {},
   "outputs": [
    {
     "data": {
      "image/png": "[encoded data removed]",
      "text/plain": [
       "<Figure size 432x288 with 1 Axes>"
      ]
     },
     "metadata": {
      "needs_background": "light"
     },
     "output_type": "display_data"
    }
   ],
   "source": [
    "# 使用bar()生成直方图，barh()生成水平条形图（要生成一个堆积条形图，通过指定：pass stacked=True）\n",
    "df.plot.barh(stacked=True)# 图3\n",
    "plt.yticks(range(l),xticks)\n",
    "plt.show()"
   ]
  },
  {
   "cell_type": "code",
   "execution_count": null,
   "metadata": {},
   "outputs": [],
   "source": []
  }
 ],
 "metadata": {
  "kernelspec": {
   "display_name": "Python [conda env:tf-gpu]",
   "language": "python",
   "name": "conda-env-tf-gpu-py"
  },
  "language_info": {
   "codemirror_mode": {
    "name": "ipython",
    "version": 3
   },
   "file_extension": ".py",
   "mimetype": "text/x-python",
   "name": "python",
   "nbconvert_exporter": "python",
   "pygments_lexer": "ipython3",
   "version": "3.8.8"
  }
 },
 "nbformat": 4,
 "nbformat_minor": 4
}
