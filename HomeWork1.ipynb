{
 "cells": [
  {
   "cell_type": "code",
   "execution_count": 1,
   "metadata": {},
   "outputs": [
    {
     "data": {
      "text/html": [
       "<div>\n",
       "<style scoped>\n",
       "    .dataframe tbody tr th:only-of-type {\n",
       "        vertical-align: middle;\n",
       "    }\n",
       "\n",
       "    .dataframe tbody tr th {\n",
       "        vertical-align: top;\n",
       "    }\n",
       "\n",
       "    .dataframe thead th {\n",
       "        text-align: right;\n",
       "    }\n",
       "</style>\n",
       "<table border=\"1\" class=\"dataframe\">\n",
       "  <thead>\n",
       "    <tr style=\"text-align: right;\">\n",
       "      <th></th>\n",
       "      <th>index</th>\n",
       "      <th>country</th>\n",
       "      <th>description</th>\n",
       "      <th>designation</th>\n",
       "      <th>points</th>\n",
       "      <th>price</th>\n",
       "      <th>province</th>\n",
       "      <th>region_1</th>\n",
       "      <th>region_2</th>\n",
       "      <th>taster_name</th>\n",
       "      <th>taster_twitter_handle</th>\n",
       "      <th>title</th>\n",
       "      <th>variety</th>\n",
       "      <th>winery</th>\n",
       "    </tr>\n",
       "  </thead>\n",
       "  <tbody>\n",
       "    <tr>\n",
       "      <th>0</th>\n",
       "      <td>0</td>\n",
       "      <td>Italy</td>\n",
       "      <td>Aromas include tropical fruit, broom, brimston...</td>\n",
       "      <td>Vulkà Bianco</td>\n",
       "      <td>87</td>\n",
       "      <td>NaN</td>\n",
       "      <td>Sicily &amp; Sardinia</td>\n",
       "      <td>Etna</td>\n",
       "      <td>NaN</td>\n",
       "      <td>Kerin O’Keefe</td>\n",
       "      <td>@kerinokeefe</td>\n",
       "      <td>Nicosia 2013 Vulkà Bianco  (Etna)</td>\n",
       "      <td>White Blend</td>\n",
       "      <td>Nicosia</td>\n",
       "    </tr>\n",
       "    <tr>\n",
       "      <th>1</th>\n",
       "      <td>1</td>\n",
       "      <td>Portugal</td>\n",
       "      <td>This is ripe and fruity, a wine that is smooth...</td>\n",
       "      <td>Avidagos</td>\n",
       "      <td>87</td>\n",
       "      <td>15.0</td>\n",
       "      <td>Douro</td>\n",
       "      <td>NaN</td>\n",
       "      <td>NaN</td>\n",
       "      <td>Roger Voss</td>\n",
       "      <td>@vossroger</td>\n",
       "      <td>Quinta dos Avidagos 2011 Avidagos Red (Douro)</td>\n",
       "      <td>Portuguese Red</td>\n",
       "      <td>Quinta dos Avidagos</td>\n",
       "    </tr>\n",
       "  </tbody>\n",
       "</table>\n",
       "</div>"
      ],
      "text/plain": [
       "   index   country                                        description  \\\n",
       "0      0     Italy  Aromas include tropical fruit, broom, brimston...   \n",
       "1      1  Portugal  This is ripe and fruity, a wine that is smooth...   \n",
       "\n",
       "    designation  points  price           province region_1 region_2  \\\n",
       "0  Vulkà Bianco      87    NaN  Sicily & Sardinia     Etna      NaN   \n",
       "1      Avidagos      87   15.0              Douro      NaN      NaN   \n",
       "\n",
       "     taster_name taster_twitter_handle  \\\n",
       "0  Kerin O’Keefe          @kerinokeefe   \n",
       "1     Roger Voss            @vossroger   \n",
       "\n",
       "                                           title         variety  \\\n",
       "0              Nicosia 2013 Vulkà Bianco  (Etna)     White Blend   \n",
       "1  Quinta dos Avidagos 2011 Avidagos Red (Douro)  Portuguese Red   \n",
       "\n",
       "                winery  \n",
       "0              Nicosia  \n",
       "1  Quinta dos Avidagos  "
      ]
     },
     "execution_count": 1,
     "metadata": {},
     "output_type": "execute_result"
    }
   ],
   "source": [
    "import pandas as pd\n",
    "#import seaborn as sns\n",
    "import numpy as np\n",
    "import matplotlib.pyplot as plt\n",
    "from datetime import datetime\n",
    "from tqdm import tqdm\n",
    "\n",
    "df = pd.read_csv('winemag-data-130k-v2.csv')\n",
    "# 将未命名的第一列重命名为 index\n",
    "df.rename(columns={'Unnamed: 0':'index'}, inplace=True)\n",
    "\n",
    "#展示数据的格式\n",
    "df.head(2)"
   ]
  },
  {
   "cell_type": "markdown",
   "metadata": {},
   "source": [
    "## 1. 数据摘要\n",
    "### 1.1 数据属性"
   ]
  },
  {
   "cell_type": "code",
   "execution_count": 2,
   "metadata": {},
   "outputs": [
    {
     "name": "stdout",
     "output_type": "stream",
     "text": [
      "<class 'pandas.core.frame.DataFrame'>\n",
      "RangeIndex: 129971 entries, 0 to 129970\n",
      "Data columns (total 14 columns):\n",
      " #   Column                 Non-Null Count   Dtype  \n",
      "---  ------                 --------------   -----  \n",
      " 0   index                  129971 non-null  int64  \n",
      " 1   country                129908 non-null  object \n",
      " 2   description            129971 non-null  object \n",
      " 3   designation            92506 non-null   object \n",
      " 4   points                 129971 non-null  int64  \n",
      " 5   price                  120975 non-null  float64\n",
      " 6   province               129908 non-null  object \n",
      " 7   region_1               108724 non-null  object \n",
      " 8   region_2               50511 non-null   object \n",
      " 9   taster_name            103727 non-null  object \n",
      " 10  taster_twitter_handle  98758 non-null   object \n",
      " 11  title                  129971 non-null  object \n",
      " 12  variety                129970 non-null  object \n",
      " 13  winery                 129971 non-null  object \n",
      "dtypes: float64(1), int64(2), object(11)\n",
      "memory usage: 13.9+ MB\n"
     ]
    }
   ],
   "source": [
    "# 观察数据的属性\n",
    "df.info()"
   ]
  },
  {
   "cell_type": "markdown",
   "metadata": {},
   "source": [
    "#### 整个数据有13列 其中 index，points，price为数值属性，其余为标称属性\n",
    "其中每一种属性代表的意义如下：\n",
    "1. country:来自哪个国家\n",
    "2. description：品酒师对其的描述\n",
    "3. designation：酿酒用的葡萄来自哪个葡萄庄园\n",
    "4. points：品酒师对其的打分\n",
    "5. price：一瓶酒的价格\n",
    "6. province：来自哪个省份或者州\n",
    "7. region_1：省内的具体地区\n",
    "8. region_2：有时候存在着更具体的地址\n",
    "9. taster_name： 品酒师的姓名\n",
    "10. taster_twitter_handle： 品酒师的推特账号\n",
    "11. title： 评论的标题\n",
    "12. variety:用于酿酒的葡萄种类\n",
    "13. winery：酿酒厂的名字"
   ]
  },
  {
   "cell_type": "markdown",
   "metadata": {},
   "source": [
    "### 1.2 数值属性缺失值个数"
   ]
  },
  {
   "cell_type": "code",
   "execution_count": 3,
   "metadata": {
    "scrolled": true
   },
   "outputs": [
    {
     "data": {
      "text/plain": [
       "index                        0\n",
       "country                     63\n",
       "description                  0\n",
       "designation              37465\n",
       "points                       0\n",
       "price                     8996\n",
       "province                    63\n",
       "region_1                 21247\n",
       "region_2                 79460\n",
       "taster_name              26244\n",
       "taster_twitter_handle    31213\n",
       "title                        0\n",
       "variety                      1\n",
       "winery                       0\n",
       "dtype: int64"
      ]
     },
     "execution_count": 3,
     "metadata": {},
     "output_type": "execute_result"
    }
   ],
   "source": [
    "# 统计每一列（每一种属性）值为空的个数\n",
    "df.isna().sum()"
   ]
  },
  {
   "cell_type": "markdown",
   "metadata": {},
   "source": [
    "###  1.3 数值属性五数描述"
   ]
  },
  {
   "cell_type": "code",
   "execution_count": 4,
   "metadata": {},
   "outputs": [
    {
     "data": {
      "text/html": [
       "<div>\n",
       "<style scoped>\n",
       "    .dataframe tbody tr th:only-of-type {\n",
       "        vertical-align: middle;\n",
       "    }\n",
       "\n",
       "    .dataframe tbody tr th {\n",
       "        vertical-align: top;\n",
       "    }\n",
       "\n",
       "    .dataframe thead th {\n",
       "        text-align: right;\n",
       "    }\n",
       "</style>\n",
       "<table border=\"1\" class=\"dataframe\">\n",
       "  <thead>\n",
       "    <tr style=\"text-align: right;\">\n",
       "      <th></th>\n",
       "      <th>index</th>\n",
       "      <th>points</th>\n",
       "      <th>price</th>\n",
       "    </tr>\n",
       "  </thead>\n",
       "  <tbody>\n",
       "    <tr>\n",
       "      <th>count</th>\n",
       "      <td>129971.000000</td>\n",
       "      <td>129971.000000</td>\n",
       "      <td>120975.000000</td>\n",
       "    </tr>\n",
       "    <tr>\n",
       "      <th>mean</th>\n",
       "      <td>64985.000000</td>\n",
       "      <td>88.447138</td>\n",
       "      <td>35.363389</td>\n",
       "    </tr>\n",
       "    <tr>\n",
       "      <th>std</th>\n",
       "      <td>37519.540256</td>\n",
       "      <td>3.039730</td>\n",
       "      <td>41.022218</td>\n",
       "    </tr>\n",
       "    <tr>\n",
       "      <th>min</th>\n",
       "      <td>0.000000</td>\n",
       "      <td>80.000000</td>\n",
       "      <td>4.000000</td>\n",
       "    </tr>\n",
       "    <tr>\n",
       "      <th>25%</th>\n",
       "      <td>32492.500000</td>\n",
       "      <td>86.000000</td>\n",
       "      <td>17.000000</td>\n",
       "    </tr>\n",
       "    <tr>\n",
       "      <th>50%</th>\n",
       "      <td>64985.000000</td>\n",
       "      <td>88.000000</td>\n",
       "      <td>25.000000</td>\n",
       "    </tr>\n",
       "    <tr>\n",
       "      <th>75%</th>\n",
       "      <td>97477.500000</td>\n",
       "      <td>91.000000</td>\n",
       "      <td>42.000000</td>\n",
       "    </tr>\n",
       "    <tr>\n",
       "      <th>max</th>\n",
       "      <td>129970.000000</td>\n",
       "      <td>100.000000</td>\n",
       "      <td>3300.000000</td>\n",
       "    </tr>\n",
       "  </tbody>\n",
       "</table>\n",
       "</div>"
      ],
      "text/plain": [
       "               index         points          price\n",
       "count  129971.000000  129971.000000  120975.000000\n",
       "mean    64985.000000      88.447138      35.363389\n",
       "std     37519.540256       3.039730      41.022218\n",
       "min         0.000000      80.000000       4.000000\n",
       "25%     32492.500000      86.000000      17.000000\n",
       "50%     64985.000000      88.000000      25.000000\n",
       "75%     97477.500000      91.000000      42.000000\n",
       "max    129970.000000     100.000000    3300.000000"
      ]
     },
     "execution_count": 4,
     "metadata": {},
     "output_type": "execute_result"
    }
   ],
   "source": [
    "# 获取数值属性的数据统计信息，包含五数描述\n",
    "df.describe()"
   ]
  },
  {
   "cell_type": "markdown",
   "metadata": {},
   "source": [
    "### 1.4 标称属性每种类别的频数\n",
    "#### 由于总共有11种标称属性，每一种标称属性都有很多值，因此这里只展示每一个标称属性中出现频数最高的5个值。"
   ]
  },
  {
   "cell_type": "code",
   "execution_count": 5,
   "metadata": {},
   "outputs": [
    {
     "data": {
      "text/plain": [
       "US          54504\n",
       "France      22093\n",
       "Italy       19540\n",
       "Spain        6645\n",
       "Portugal     5691\n",
       "Name: country, dtype: int64"
      ]
     },
     "execution_count": 5,
     "metadata": {},
     "output_type": "execute_result"
    }
   ],
   "source": [
    "#国家属性中每种类别出现的频数\n",
    "df['country'].value_counts().head(5)"
   ]
  },
  {
   "cell_type": "code",
   "execution_count": 6,
   "metadata": {},
   "outputs": [
    {
     "data": {
      "text/plain": [
       "Seductively tart in lemon pith, cranberry and pomegranate, this refreshing, light-bodied quaff is infinitely enjoyable, both on its own or at the table. It continues to expand on the palate into an increasing array of fresh flavors, finishing in cherry and orange.                                         3\n",
       "Cigar box, café au lait, and dried tobacco aromas are followed by coffee and cherry flavors, with barrel spices lingering on the finish. The wood gets a bit out front but it still delivers enjoyment.                                                                                                          3\n",
       "Gravenstein apple, honeysuckle and jasmine aromas show on the relatively boisterous nose of this bottling from a large vineyard on Highway 46 east of Paso Robles. There is compellingly grippy texture to the sip, with ripe flavors of pear and honeydew melon. A salty acidity takes it to the next level.    3\n",
       "Stalky aromas suggest hay and green herbs, with raspberry in the backdrop. It's hot and short in terms of mouthfeel, with herbal flavors leading the way and berry fruit running behind. Dry red fruit and herbal notes dominate the finish.                                                                     3\n",
       "This zesty red has pretty aromas that suggest small red berry, blue flower and a whiff of moist soil. The vibrant palate offers sour cherry, pomegranate and a hint of anise alongside zesty acidity and refined tannins.                                                                                        3\n",
       "Name: description, dtype: int64"
      ]
     },
     "execution_count": 6,
     "metadata": {},
     "output_type": "execute_result"
    }
   ],
   "source": [
    "#评价属性中每种类别出现的频数\n",
    "df['description'].value_counts().head(5)"
   ]
  },
  {
   "cell_type": "code",
   "execution_count": 7,
   "metadata": {},
   "outputs": [
    {
     "data": {
      "text/plain": [
       "Reserve         2009\n",
       "Estate          1322\n",
       "Reserva         1259\n",
       "Riserva          698\n",
       "Estate Grown     621\n",
       "Name: designation, dtype: int64"
      ]
     },
     "execution_count": 7,
     "metadata": {},
     "output_type": "execute_result"
    }
   ],
   "source": [
    "#葡萄园属性中每种类别出现的频数\n",
    "df['designation'].value_counts().head(5)\n"
   ]
  },
  {
   "cell_type": "code",
   "execution_count": 8,
   "metadata": {},
   "outputs": [
    {
     "data": {
      "text/plain": [
       "California    36247\n",
       "Washington     8639\n",
       "Bordeaux       5941\n",
       "Tuscany        5897\n",
       "Oregon         5373\n",
       "Name: province, dtype: int64"
      ]
     },
     "execution_count": 8,
     "metadata": {},
     "output_type": "execute_result"
    }
   ],
   "source": [
    "#生产省份属性中每种类别出现的频数\n",
    "df['province'].value_counts().head(5)"
   ]
  },
  {
   "cell_type": "code",
   "execution_count": 9,
   "metadata": {},
   "outputs": [
    {
     "data": {
      "text/plain": [
       "Napa Valley             4480\n",
       "Columbia Valley (WA)    4124\n",
       "Russian River Valley    3091\n",
       "California              2629\n",
       "Paso Robles             2350\n",
       "Name: region_1, dtype: int64"
      ]
     },
     "execution_count": 9,
     "metadata": {},
     "output_type": "execute_result"
    }
   ],
   "source": [
    "#生产省份下一级地址属性中每种类别出现的频数\n",
    "df['region_1'].value_counts().head(5)"
   ]
  },
  {
   "cell_type": "code",
   "execution_count": 10,
   "metadata": {},
   "outputs": [
    {
     "data": {
      "text/plain": [
       "Central Coast        11065\n",
       "Sonoma                9028\n",
       "Columbia Valley       8103\n",
       "Napa                  6814\n",
       "Willamette Valley     3423\n",
       "Name: region_2, dtype: int64"
      ]
     },
     "execution_count": 10,
     "metadata": {},
     "output_type": "execute_result"
    }
   ],
   "source": [
    "#生产省份下二级地址属性中每种类别出现的频数\n",
    "df['region_2'].value_counts().head(5)"
   ]
  },
  {
   "cell_type": "code",
   "execution_count": 11,
   "metadata": {},
   "outputs": [
    {
     "data": {
      "text/plain": [
       "Roger Voss           25514\n",
       "Michael Schachner    15134\n",
       "Kerin O’Keefe        10776\n",
       "Virginie Boone        9537\n",
       "Paul Gregutt          9532\n",
       "Name: taster_name, dtype: int64"
      ]
     },
     "execution_count": 11,
     "metadata": {},
     "output_type": "execute_result"
    }
   ],
   "source": [
    "#品酒师姓名中每种类别出现的频数\n",
    "df['taster_name'].value_counts().head(5)"
   ]
  },
  {
   "cell_type": "code",
   "execution_count": 12,
   "metadata": {},
   "outputs": [
    {
     "data": {
      "text/plain": [
       "@vossroger      25514\n",
       "@wineschach     15134\n",
       "@kerinokeefe    10776\n",
       "@vboone          9537\n",
       "@paulgwine       9532\n",
       "Name: taster_twitter_handle, dtype: int64"
      ]
     },
     "execution_count": 12,
     "metadata": {},
     "output_type": "execute_result"
    }
   ],
   "source": [
    "#品酒师推特账号中每种类别出现的频数\n",
    "df['taster_twitter_handle'].value_counts().head(5)"
   ]
  },
  {
   "cell_type": "code",
   "execution_count": 13,
   "metadata": {},
   "outputs": [
    {
     "data": {
      "text/plain": [
       "Gloria Ferrer NV Sonoma Brut Sparkling (Sonoma County)     11\n",
       "Korbel NV Brut Sparkling (California)                       9\n",
       "Segura Viudas NV Extra Dry Sparkling (Cava)                 8\n",
       "Gloria Ferrer NV Blanc de Noirs Sparkling (Carneros)        7\n",
       "Segura Viudas NV Aria Estate Extra Dry Sparkling (Cava)     7\n",
       "Name: title, dtype: int64"
      ]
     },
     "execution_count": 13,
     "metadata": {},
     "output_type": "execute_result"
    }
   ],
   "source": [
    "#评价标题中每种类别出现的频数\n",
    "df['title'].value_counts().head(5)"
   ]
  },
  {
   "cell_type": "code",
   "execution_count": 14,
   "metadata": {},
   "outputs": [
    {
     "data": {
      "text/plain": [
       "Pinot Noir                  13272\n",
       "Chardonnay                  11753\n",
       "Cabernet Sauvignon           9472\n",
       "Red Blend                    8946\n",
       "Bordeaux-style Red Blend     6915\n",
       "Name: variety, dtype: int64"
      ]
     },
     "execution_count": 14,
     "metadata": {},
     "output_type": "execute_result"
    }
   ],
   "source": [
    "#葡萄种类中每种类别出现的频数\n",
    "df['variety'].value_counts().head(5)"
   ]
  },
  {
   "cell_type": "code",
   "execution_count": 15,
   "metadata": {},
   "outputs": [
    {
     "data": {
      "text/plain": [
       "Wines & Winemakers    222\n",
       "Testarossa            218\n",
       "DFJ Vinhos            215\n",
       "Williams Selyem       211\n",
       "Louis Latour          199\n",
       "Name: winery, dtype: int64"
      ]
     },
     "execution_count": 15,
     "metadata": {},
     "output_type": "execute_result"
    }
   ],
   "source": [
    "##葡萄酒庄中每种类别出现的频数\n",
    "df['winery'].value_counts().head(5)"
   ]
  },
  {
   "cell_type": "markdown",
   "metadata": {},
   "source": [
    "### 1.5 数据可视化\n",
    "#### 在13维的特征中，其中10维为标称属性，另外3维为数值属性。\n",
    "#### 除去数值属性中的index索引，将剩余2维数值属性做直方图和盒图观察其数据分布以及离群点。"
   ]
  },
  {
   "cell_type": "code",
   "execution_count": 16,
   "metadata": {},
   "outputs": [
    {
     "data": {
      "text/plain": [
       "array([[<AxesSubplot:title={'center':'points'}>,\n",
       "        <AxesSubplot:title={'center':'price'}>]], dtype=object)"
      ]
     },
     "execution_count": 16,
     "metadata": {},
     "output_type": "execute_result"
    },
    {
     "data": {
      "image/png": "[encoded data removed]",
      "text/plain": [
       "<Figure size 720x360 with 2 Axes>"
      ]
     },
     "metadata": {
      "needs_background": "light"
     },
     "output_type": "display_data"
    }
   ],
   "source": [
    "#得分和价格的数据分布\n",
    "#df['points'].plot.hist(bins=20)\n",
    "df1 = df[['points','price']]\n",
    "df1.hist(figsize=(10,5),bins=50)"
   ]
  },
  {
   "cell_type": "markdown",
   "metadata": {},
   "source": [
    "#### 从统计直方图来看，酒的得分呈现正态分布，普遍位于80-98分的得分区间。而酒的价格呈现幂律分布集中在0-250这个区间，但也存在着价格为500-3000区间的酒，只是数量相较于普通酒很少。"
   ]
  },
  {
   "cell_type": "code",
   "execution_count": 17,
   "metadata": {},
   "outputs": [
    {
     "data": {
      "text/plain": [
       "points       AxesSubplot(0.125,0.125;0.352273x0.755)\n",
       "price     AxesSubplot(0.547727,0.125;0.352273x0.755)\n",
       "dtype: object"
      ]
     },
     "execution_count": 17,
     "metadata": {},
     "output_type": "execute_result"
    },
    {
     "data": {
      "image/png": "[encoded data removed]",
      "text/plain": [
       "<Figure size 432x288 with 2 Axes>"
      ]
     },
     "metadata": {
      "needs_background": "light"
     },
     "output_type": "display_data"
    }
   ],
   "source": [
    "#得分和价格的盒图\n",
    "df1.plot.box(subplots=True)"
   ]
  },
  {
   "cell_type": "markdown",
   "metadata": {},
   "source": [
    "#### 得分：绝大部分酒的得分位于80-98分之间，98分之上有两个离群点，说明绝大多数酒的评分差距不大。\n",
    "#### 价格：存在着很多的离群点，这些离群点代表价格远超一般酒价格的酒，说明存在一些酒比大部分酒价格高很多。"
   ]
  },
  {
   "cell_type": "markdown",
   "metadata": {},
   "source": [
    "#### 作10维标称bar图，观察其中每种类别的频数。"
   ]
  },
  {
   "cell_type": "code",
   "execution_count": 18,
   "metadata": {},
   "outputs": [
    {
     "data": {
      "image/png": "[encoded data removed]",
      "text/plain": [
       "<Figure size 720x1440 with 9 Axes>"
      ]
     },
     "metadata": {
      "needs_background": "light"
     },
     "output_type": "display_data"
    }
   ],
   "source": [
    "#标称属性的饼状图\n",
    "fig=plt.figure(10,figsize=(10,20))##增添画布，必须要有这一步\n",
    "fig.set(alpha=0.2)\n",
    "ax1=fig.add_subplot(5,2,1)  ##切割画布，并且定位画布到1行4列的第一个.plot(kind='bar', label=\"female highclass\", color='#FA2479')\n",
    "df['country'].value_counts().head(10).plot(kind='bar')\n",
    "\n",
    "#标签太长无法显示\n",
    "# ax2=fig.add_subplot(5,2,2)\n",
    "# df['description'].value_counts().head(10).plot(kind='bar')\n",
    "\n",
    "ax3=fig.add_subplot(5,2,3)\n",
    "df['designation'].value_counts().head(10).plot(kind='bar')\n",
    "\n",
    "ax4=fig.add_subplot(5,2,4)\n",
    "df['province'].value_counts().head(10).plot(kind='bar')\n",
    "\n",
    "ax5=fig.add_subplot(5,2,5)\n",
    "df['region_1'].value_counts().head(10).plot(kind='bar')\n",
    "\n",
    "ax6=fig.add_subplot(5,2,6)\n",
    "df['region_2'].value_counts().head(10).plot(kind='bar')\n",
    "\n",
    "ax7=fig.add_subplot(5,2,7)\n",
    "df['taster_name'].value_counts().head(10).plot(kind='bar')\n",
    "\n",
    "ax8=fig.add_subplot(5,2,8)\n",
    "df['winery'].value_counts().head(10).plot(kind='bar')\n",
    "\n",
    "ax9=fig.add_subplot(5,2,9)\n",
    "df['title'].value_counts().head(10).plot(kind='bar')\n",
    "\n",
    "ax10=fig.add_subplot(5,2,10)\n",
    "df['variety'].value_counts().head(10).plot(kind='bar')\n",
    "\n",
    "plt.show()"
   ]
  },
  {
   "cell_type": "markdown",
   "metadata": {},
   "source": [
    "## 2. 数据缺失处理\n",
    "### 2.1观察缺失数据，分析缺失原因。"
   ]
  },
  {
   "cell_type": "code",
   "execution_count": 19,
   "metadata": {},
   "outputs": [
    {
     "data": {
      "text/plain": [
       "index                        0\n",
       "country                     63\n",
       "description                  0\n",
       "designation              37465\n",
       "points                       0\n",
       "price                     8996\n",
       "province                    63\n",
       "region_1                 21247\n",
       "region_2                 79460\n",
       "taster_name              26244\n",
       "taster_twitter_handle    31213\n",
       "title                        0\n",
       "variety                      1\n",
       "winery                       0\n",
       "dtype: int64"
      ]
     },
     "execution_count": 19,
     "metadata": {},
     "output_type": "execute_result"
    }
   ],
   "source": [
    "#检查每一列缺失值的个数\n",
    "df.isna().sum()"
   ]
  },
  {
   "cell_type": "markdown",
   "metadata": {},
   "source": [
    "#### 数据中country和province这两个属性都是63次缺失，查看原数据集可以发现country和province两者是同时缺失的，同时后面的region_1,region_2也是缺失的，这说明数据统计时，存在着漏统计的现象。\n",
    "#### designation，price，region_1,region_2,taster_name,taster_twit ter_handle存在着大量的缺失数据，说明这一字段可能设置为缺省值，在统计时是不是必要字段。\n",
    "#### varety字段只存1个缺失值，可能是数据发生了丢失。"
   ]
  },
  {
   "cell_type": "markdown",
   "metadata": {},
   "source": [
    "### 2.2 将缺失部分剔除"
   ]
  },
  {
   "cell_type": "code",
   "execution_count": 20,
   "metadata": {},
   "outputs": [
    {
     "data": {
      "text/html": [
       "<div>\n",
       "<style scoped>\n",
       "    .dataframe tbody tr th:only-of-type {\n",
       "        vertical-align: middle;\n",
       "    }\n",
       "\n",
       "    .dataframe tbody tr th {\n",
       "        vertical-align: top;\n",
       "    }\n",
       "\n",
       "    .dataframe thead th {\n",
       "        text-align: right;\n",
       "    }\n",
       "</style>\n",
       "<table border=\"1\" class=\"dataframe\">\n",
       "  <thead>\n",
       "    <tr style=\"text-align: right;\">\n",
       "      <th></th>\n",
       "      <th>index</th>\n",
       "      <th>points</th>\n",
       "      <th>price</th>\n",
       "    </tr>\n",
       "  </thead>\n",
       "  <tbody>\n",
       "    <tr>\n",
       "      <th>count</th>\n",
       "      <td>22387.000000</td>\n",
       "      <td>22387.000000</td>\n",
       "      <td>22387.000000</td>\n",
       "    </tr>\n",
       "    <tr>\n",
       "      <th>mean</th>\n",
       "      <td>65656.944745</td>\n",
       "      <td>89.537812</td>\n",
       "      <td>41.465404</td>\n",
       "    </tr>\n",
       "    <tr>\n",
       "      <th>std</th>\n",
       "      <td>37566.725499</td>\n",
       "      <td>2.809306</td>\n",
       "      <td>29.379374</td>\n",
       "    </tr>\n",
       "    <tr>\n",
       "      <th>min</th>\n",
       "      <td>4.000000</td>\n",
       "      <td>80.000000</td>\n",
       "      <td>4.000000</td>\n",
       "    </tr>\n",
       "    <tr>\n",
       "      <th>25%</th>\n",
       "      <td>33404.000000</td>\n",
       "      <td>88.000000</td>\n",
       "      <td>25.000000</td>\n",
       "    </tr>\n",
       "    <tr>\n",
       "      <th>50%</th>\n",
       "      <td>66312.000000</td>\n",
       "      <td>90.000000</td>\n",
       "      <td>36.000000</td>\n",
       "    </tr>\n",
       "    <tr>\n",
       "      <th>75%</th>\n",
       "      <td>98460.500000</td>\n",
       "      <td>92.000000</td>\n",
       "      <td>50.000000</td>\n",
       "    </tr>\n",
       "    <tr>\n",
       "      <th>max</th>\n",
       "      <td>129950.000000</td>\n",
       "      <td>100.000000</td>\n",
       "      <td>2013.000000</td>\n",
       "    </tr>\n",
       "  </tbody>\n",
       "</table>\n",
       "</div>"
      ],
      "text/plain": [
       "               index        points         price\n",
       "count   22387.000000  22387.000000  22387.000000\n",
       "mean    65656.944745     89.537812     41.465404\n",
       "std     37566.725499      2.809306     29.379374\n",
       "min         4.000000     80.000000      4.000000\n",
       "25%     33404.000000     88.000000     25.000000\n",
       "50%     66312.000000     90.000000     36.000000\n",
       "75%     98460.500000     92.000000     50.000000\n",
       "max    129950.000000    100.000000   2013.000000"
      ]
     },
     "execution_count": 20,
     "metadata": {},
     "output_type": "execute_result"
    }
   ],
   "source": [
    "df_drop = df.dropna()\n",
    "#删除前数值属性数据描述\n",
    "df_drop.describe()"
   ]
  },
  {
   "cell_type": "code",
   "execution_count": 21,
   "metadata": {},
   "outputs": [],
   "source": [
    "#删除后数值属性\n",
    "df_drop = df_drop.rename(columns={'points':'drop_points'})"
   ]
  },
  {
   "cell_type": "markdown",
   "metadata": {},
   "source": [
    "#### 删除含有缺失值的行后，总的记录条数从129971条降至22387条，对比将缺失值删除前后的数值属性数值分布："
   ]
  },
  {
   "cell_type": "code",
   "execution_count": 22,
   "metadata": {},
   "outputs": [
    {
     "data": {
      "text/plain": [
       "<AxesSubplot:ylabel='Frequency'>"
      ]
     },
     "execution_count": 22,
     "metadata": {},
     "output_type": "execute_result"
    },
    {
     "data": {
      "image/png": "[encoded data removed]",
      "text/plain": [
       "<Figure size 432x288 with 1 Axes>"
      ]
     },
     "metadata": {
      "needs_background": "light"
     },
     "output_type": "display_data"
    }
   ],
   "source": [
    "frames = [df['points'],df_drop['drop_points']]\n",
    "result = pd.concat(frames, axis=1)\n",
    "\n",
    "result.plot.hist(alpha=0.5,bins=20)"
   ]
  },
  {
   "cell_type": "markdown",
   "metadata": {},
   "source": [
    "#### 上图为删除空缺值前后的points数据分布对比，可以看出删除空缺值后，记录数量明显变少，并且整体向右移动。"
   ]
  },
  {
   "cell_type": "markdown",
   "metadata": {},
   "source": [
    "### 2.3 用最高频率值来填补缺失值"
   ]
  },
  {
   "cell_type": "code",
   "execution_count": 23,
   "metadata": {},
   "outputs": [
    {
     "data": {
      "text/plain": [
       "{'country': 0    US\n",
       " dtype: object,\n",
       " 'designation': 0    Reserve\n",
       " dtype: object,\n",
       " 'price': 0    20.0\n",
       " dtype: float64,\n",
       " 'province': 0    California\n",
       " dtype: object,\n",
       " 'region_1': 0    Napa Valley\n",
       " dtype: object,\n",
       " 'region_2': 0    Central Coast\n",
       " dtype: object,\n",
       " 'taster_name': 0    Roger Voss\n",
       " dtype: object,\n",
       " 'taster_twitter_handle': 0    @vossroger\n",
       " dtype: object,\n",
       " 'variety': 0    Pinot Noir\n",
       " dtype: object}"
      ]
     },
     "execution_count": 23,
     "metadata": {},
     "output_type": "execute_result"
    }
   ],
   "source": [
    "#利用每一列最多的值来填充每一列中的空缺值。\n",
    "value={'country':df.country.mode(), 'designation':df.designation.mode(),'price':df.price.mode(),'province':df.province.mode(), 'region_1':df.region_1.mode(),'region_2':df.region_2.mode(),'taster_name':df.taster_name.mode(),'taster_twitter_handle':df.taster_twitter_handle.mode(),'variety':df.variety.mode()} #分别计算均值个中位数 auto.fillna(value)\n",
    "df_fill_mode = df.fillna(value)\n",
    "value"
   ]
  },
  {
   "cell_type": "markdown",
   "metadata": {},
   "source": [
    "### 2.4 通过属性的相关关系来填补缺失值\n",
    "#### 由于省市必须位于特定的国家里面，所以不能简单的选取出现最多的省份进行填充，而应该考虑所处的国家。"
   ]
  },
  {
   "cell_type": "code",
   "execution_count": 24,
   "metadata": {},
   "outputs": [
    {
     "data": {
      "text/html": [
       "<div>\n",
       "<style scoped>\n",
       "    .dataframe tbody tr th:only-of-type {\n",
       "        vertical-align: middle;\n",
       "    }\n",
       "\n",
       "    .dataframe tbody tr th {\n",
       "        vertical-align: top;\n",
       "    }\n",
       "\n",
       "    .dataframe thead th {\n",
       "        text-align: right;\n",
       "    }\n",
       "</style>\n",
       "<table border=\"1\" class=\"dataframe\">\n",
       "  <thead>\n",
       "    <tr style=\"text-align: right;\">\n",
       "      <th></th>\n",
       "      <th>country</th>\n",
       "      <th>province</th>\n",
       "      <th>index</th>\n",
       "    </tr>\n",
       "  </thead>\n",
       "  <tbody>\n",
       "    <tr>\n",
       "      <th>0</th>\n",
       "      <td>Argentina</td>\n",
       "      <td>Mendoza Province</td>\n",
       "      <td>3264</td>\n",
       "    </tr>\n",
       "    <tr>\n",
       "      <th>1</th>\n",
       "      <td>Argentina</td>\n",
       "      <td>Other</td>\n",
       "      <td>536</td>\n",
       "    </tr>\n",
       "    <tr>\n",
       "      <th>2</th>\n",
       "      <td>Armenia</td>\n",
       "      <td>Armenia</td>\n",
       "      <td>2</td>\n",
       "    </tr>\n",
       "    <tr>\n",
       "      <th>3</th>\n",
       "      <td>Australia</td>\n",
       "      <td>Australia Other</td>\n",
       "      <td>245</td>\n",
       "    </tr>\n",
       "    <tr>\n",
       "      <th>4</th>\n",
       "      <td>Australia</td>\n",
       "      <td>New South Wales</td>\n",
       "      <td>85</td>\n",
       "    </tr>\n",
       "    <tr>\n",
       "      <th>5</th>\n",
       "      <td>Australia</td>\n",
       "      <td>South Australia</td>\n",
       "      <td>1349</td>\n",
       "    </tr>\n",
       "    <tr>\n",
       "      <th>6</th>\n",
       "      <td>Australia</td>\n",
       "      <td>Tasmania</td>\n",
       "      <td>42</td>\n",
       "    </tr>\n",
       "    <tr>\n",
       "      <th>7</th>\n",
       "      <td>Australia</td>\n",
       "      <td>Victoria</td>\n",
       "      <td>322</td>\n",
       "    </tr>\n",
       "    <tr>\n",
       "      <th>8</th>\n",
       "      <td>Australia</td>\n",
       "      <td>Western Australia</td>\n",
       "      <td>286</td>\n",
       "    </tr>\n",
       "    <tr>\n",
       "      <th>9</th>\n",
       "      <td>Austria</td>\n",
       "      <td>Austria</td>\n",
       "      <td>26</td>\n",
       "    </tr>\n",
       "    <tr>\n",
       "      <th>10</th>\n",
       "      <td>Austria</td>\n",
       "      <td>Burgenland</td>\n",
       "      <td>672</td>\n",
       "    </tr>\n",
       "    <tr>\n",
       "      <th>11</th>\n",
       "      <td>Austria</td>\n",
       "      <td>Carnuntum</td>\n",
       "      <td>103</td>\n",
       "    </tr>\n",
       "    <tr>\n",
       "      <th>12</th>\n",
       "      <td>Austria</td>\n",
       "      <td>Eisenberg</td>\n",
       "      <td>16</td>\n",
       "    </tr>\n",
       "    <tr>\n",
       "      <th>13</th>\n",
       "      <td>Austria</td>\n",
       "      <td>Kamptal</td>\n",
       "      <td>409</td>\n",
       "    </tr>\n",
       "    <tr>\n",
       "      <th>14</th>\n",
       "      <td>Austria</td>\n",
       "      <td>Kremstal</td>\n",
       "      <td>340</td>\n",
       "    </tr>\n",
       "    <tr>\n",
       "      <th>15</th>\n",
       "      <td>Austria</td>\n",
       "      <td>Leithaberg</td>\n",
       "      <td>42</td>\n",
       "    </tr>\n",
       "    <tr>\n",
       "      <th>16</th>\n",
       "      <td>Austria</td>\n",
       "      <td>Mittelburgenland</td>\n",
       "      <td>23</td>\n",
       "    </tr>\n",
       "    <tr>\n",
       "      <th>17</th>\n",
       "      <td>Austria</td>\n",
       "      <td>Neusiedlersee</td>\n",
       "      <td>13</td>\n",
       "    </tr>\n",
       "    <tr>\n",
       "      <th>18</th>\n",
       "      <td>Austria</td>\n",
       "      <td>Niederösterreich</td>\n",
       "      <td>600</td>\n",
       "    </tr>\n",
       "    <tr>\n",
       "      <th>19</th>\n",
       "      <td>Austria</td>\n",
       "      <td>Steiermark</td>\n",
       "      <td>20</td>\n",
       "    </tr>\n",
       "  </tbody>\n",
       "</table>\n",
       "</div>"
      ],
      "text/plain": [
       "      country           province  index\n",
       "0   Argentina   Mendoza Province   3264\n",
       "1   Argentina              Other    536\n",
       "2     Armenia            Armenia      2\n",
       "3   Australia    Australia Other    245\n",
       "4   Australia    New South Wales     85\n",
       "5   Australia    South Australia   1349\n",
       "6   Australia           Tasmania     42\n",
       "7   Australia           Victoria    322\n",
       "8   Australia  Western Australia    286\n",
       "9     Austria            Austria     26\n",
       "10    Austria         Burgenland    672\n",
       "11    Austria          Carnuntum    103\n",
       "12    Austria          Eisenberg     16\n",
       "13    Austria            Kamptal    409\n",
       "14    Austria           Kremstal    340\n",
       "15    Austria         Leithaberg     42\n",
       "16    Austria   Mittelburgenland     23\n",
       "17    Austria      Neusiedlersee     13\n",
       "18    Austria   Niederösterreich    600\n",
       "19    Austria         Steiermark     20"
      ]
     },
     "execution_count": 24,
     "metadata": {},
     "output_type": "execute_result"
    }
   ],
   "source": [
    "#\n",
    "provinces = df.groupby(['country','province']).agg({'index':'count'}).reset_index()\n",
    "provinces.head(20)"
   ]
  },
  {
   "cell_type": "code",
   "execution_count": 25,
   "metadata": {},
   "outputs": [],
   "source": [
    "#获取每个国家下最长出现的省份\n",
    "def get_most_pattern(x):\n",
    "    df = x.sort_values(by=\"index\",ascending=True)\n",
    "    return df.iloc[-1,:]\n",
    "\n",
    "provinces_most =provinces.groupby('country',as_index=False).apply(get_most_pattern)"
   ]
  },
  {
   "cell_type": "code",
   "execution_count": 26,
   "metadata": {},
   "outputs": [],
   "source": [
    "#首先对一般属性使用出现频数最大的值进行填充\n",
    "value={'country':df.country.mode(), 'designation':df.designation.mode(),'price':df.price.mode(),'taster_name':df.taster_name.mode(),'taster_twitter_handle':df.taster_twitter_handle.mode(),'variety':df.variety.mode()} #分别计算均值个中位数 auto.fillna(value)\n",
    "df_fill_relation = df.fillna(value)\n",
    "#生成一列most_province对缺失的province进行填充\n",
    "\n",
    "def most_province(x,provinces_most):\n",
    "    if x['country'] in provinces_most['country'].values:\n",
    "        \n",
    "        res = provinces_most[provinces_most['country'].values== x['country']]\n",
    "#         print(res[\"province\"])\n",
    "        return res[\"province\"].values[0]\n",
    "        #return provinces_most.loc[provinces_most[\"country\"] == x[\"country\"]].head(1)[\"province\"]\n",
    "    else:\n",
    "        return x['country']\n",
    "\n",
    "df_fill_relation['most_province'] = df_fill_relation.apply(lambda x: most_province(x,provinces_most),axis=1)\n"
   ]
  },
  {
   "cell_type": "markdown",
   "metadata": {},
   "source": [
    "#### 最后一列为新增加的most_province属性，该列的值是由国家确定的，大小为该国家下面最多出现的省份。"
   ]
  },
  {
   "cell_type": "code",
   "execution_count": 27,
   "metadata": {},
   "outputs": [
    {
     "data": {
      "text/plain": [
       "0         Sicily & Sardinia\n",
       "1                     Douro\n",
       "2                    Oregon\n",
       "3                  Michigan\n",
       "4                    Oregon\n",
       "                ...        \n",
       "129966                Mosel\n",
       "129967               Oregon\n",
       "129968               Alsace\n",
       "129969               Alsace\n",
       "129970               Alsace\n",
       "Name: province, Length: 129971, dtype: object"
      ]
     },
     "execution_count": 27,
     "metadata": {},
     "output_type": "execute_result"
    }
   ],
   "source": [
    "#使用最后一列填充空缺值\n",
    "df_fill_relation['province'].fillna(df_fill_relation['most_province'])"
   ]
  },
  {
   "cell_type": "markdown",
   "metadata": {},
   "source": [
    "### 2.5 通过数据对象之间的相似性来填补缺失值"
   ]
  },
  {
   "cell_type": "code",
   "execution_count": null,
   "metadata": {},
   "outputs": [],
   "source": [
    "#这里我们可以用得分的相似性来预测价格，即将空缺的价格填补为，得分最相近个数据价格的平均值。\n",
    "\n",
    "\n",
    "# #首先对一般属性使用出现频数最大的值进行填充\n",
    "value={'country':df.country.mode(), 'designation':df.designation.mode(),'taster_name':df.taster_name.mode(),'taster_twitter_handle':df.taster_twitter_handle.mode(),'variety':df.variety.mode()} #分别计算均值个中位数 auto.fillna(value)\n",
    "df_fill_similarity = df.fillna(value)\n",
    "# #生成一列most_province对缺失的province进行填充\n",
    "\n",
    "# # #找出最相近的数据，并将其的价格返回\n",
    "def most_similar(x,df):\n",
    "    gap=100;\n",
    "    similarlist=[];\n",
    "    for item in  df['points'].values:\n",
    "        if abs(x.points - item ) > gap:\n",
    "            continue;\n",
    "        elif abs(x.points - item ) < gap:\n",
    "            gap = abs(x.points - item)\n",
    "            similarlist.clear()\n",
    "            similarlist.append(item)\n",
    "        else:\n",
    "            similarlist.append(item)\n",
    "    similarset = set(similarlist)\n",
    "    \n",
    "    sumpoints = 0;\n",
    "    sumlens = 0;\n",
    "    \n",
    "    for i in similarset:\n",
    "        df1 = df[df['points']==i]\n",
    "        sumpoints = sumpoints + df1['price'].sum()\n",
    "        sumlens = sumlens + df1['index'].count()\n",
    "        \n",
    "    avgpoints = sumpoints/sumlens\n",
    "    #print(avgpoints+'\\n')\n",
    "    return avgpoints\n",
    "\n",
    "df_fill_similarity['similar_price'] = df_fill_similarity.apply(lambda x: most_similar(x,df),axis=1)\n",
    "\n",
    "df_fill_similarity"
   ]
  },
  {
   "cell_type": "code",
   "execution_count": null,
   "metadata": {},
   "outputs": [],
   "source": []
  }
 ],
 "metadata": {
  "kernelspec": {
   "display_name": "Python 3",
   "language": "python",
   "name": "python3"
  },
  "language_info": {
   "codemirror_mode": {
    "name": "ipython",
    "version": 3
   },
   "file_extension": ".py",
   "mimetype": "text/x-python",
   "name": "python",
   "nbconvert_exporter": "python",
   "pygments_lexer": "ipython3",
   "version": "3.8.5"
  }
 },
 "nbformat": 4,
 "nbformat_minor": 4
}
